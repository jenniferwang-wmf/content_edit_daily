{
 "cells": [
  {
   "cell_type": "code",
   "execution_count": 2,
   "id": "8d27bd6a",
   "metadata": {},
   "outputs": [],
   "source": [
    "import pandas as pd\n",
    "from wmfdata import hive"
   ]
  },
  {
   "cell_type": "markdown",
   "id": "ec0008cc",
   "metadata": {},
   "source": [
    "# Daily data"
   ]
  },
  {
   "cell_type": "code",
   "execution_count": null,
   "id": "66133e16",
   "metadata": {},
   "outputs": [],
   "source": [
    "CREATE TABLE IF NOT EXISTS jiawang2.content_edit_daily (\n",
    "`date` DATE,\n",
    "project string,\n",
    "wiki_db string,\n",
    "topic string,\n",
    "main_topic string,\n",
    "sub_topic string,\n",
    "user_is_anonymous boolean ,\n",
    "user_is_bot boolean,\n",
    "edit_count BIGINT\n",
    ") \n",
    "PARTITIONED BY (month string)\n",
    "STORED AS RCFILE\n",
    "\n"
   ]
  },
  {
   "cell_type": "markdown",
   "id": "45a99bf1",
   "metadata": {},
   "source": [
    "## Extract daily data for 2021-06 ~ 2021-07\n",
    "use new topic table: isaacj.article_topics_outlinks_2021_07"
   ]
  },
  {
   "cell_type": "code",
   "execution_count": 5,
   "id": "0b9de0eb",
   "metadata": {},
   "outputs": [],
   "source": [
    "query_daily_content_edit_2021_07='''\n",
    "INSERT INTO jiawang2.content_edit_daily\n",
    "PARTITION(month= '{MONTH_STR}')\n",
    "\n",
    "SELECT DATE_FORMAT(event_timestamp, 'yyyy-MM-dd') AS  `date`, \n",
    "        SUBSTR(w.domain_name, 0, LENGTH(w.domain_name) - 4) AS project,\n",
    "        h.wiki_db, ato.topic,\n",
    "        tc.main_topic,tc.sub_topic,\n",
    "        event_user_is_anonymous AS user_is_anonymous,\n",
    "        SIZE(event_user_is_bot_by_historical) > 0 AS user_is_bot,\n",
    "        COUNT(1) AS edit_count\n",
    "FROM wmf.mediawiki_history AS h\n",
    "INNER JOIN canonical_data.wikis w ON h.wiki_db = w.database_code AND\n",
    "    w.database_group = \"wikipedia\"\n",
    "INNER JOIN isaacj.article_topics_outlinks_2021_07 ato ON (\n",
    "  w.database_code =  ato.wiki_db\n",
    "  AND h.page_id = ato.pageid\n",
    "  AND ato.score >= 0.5\n",
    ")\n",
    "LEFT JOIN cchen.topic_component tc ON ato.topic = tc.topic  \n",
    "WHERE snapshot = '{SNAPSHOT}'\n",
    "      AND SUBSTR(event_timestamp, 1, 7) = '{MONTH_STR}'\n",
    "      AND event_entity = 'revision'\n",
    "      AND event_type = 'create' \n",
    "      AND page_namespace = 0\n",
    "GROUP BY DATE_FORMAT(event_timestamp, 'yyyy-MM-dd'), \n",
    "SUBSTR(w.domain_name, 0, LENGTH(w.domain_name) - 4), w.database_code,  \n",
    "  h.wiki_db, ato.topic,\n",
    "  tc.main_topic,tc.sub_topic,\n",
    "  event_user_is_anonymous, SIZE(event_user_is_bot_by_historical) > 0\n",
    "'''"
   ]
  },
  {
   "cell_type": "code",
   "execution_count": 3,
   "id": "0216a3d6",
   "metadata": {},
   "outputs": [],
   "source": [
    "month_list = pd.date_range(start='2021-06-01', end='2021-07-01', freq='1MS')"
   ]
  },
  {
   "cell_type": "code",
   "execution_count": 4,
   "id": "4018b2c0",
   "metadata": {},
   "outputs": [
    {
     "data": {
      "text/plain": [
       "DatetimeIndex(['2021-06-01', '2021-07-01'], dtype='datetime64[ns]', freq='MS')"
      ]
     },
     "execution_count": 4,
     "metadata": {},
     "output_type": "execute_result"
    }
   ],
   "source": [
    "month_list"
   ]
  },
  {
   "cell_type": "code",
   "execution_count": 6,
   "id": "5b720197",
   "metadata": {},
   "outputs": [
    {
     "name": "stdout",
     "output_type": "stream",
     "text": [
      "2021-06\n",
      "2021-07\n"
     ]
    }
   ],
   "source": [
    "for m in month_list:\n",
    "    month_string= m.strftime(\"%Y-%m\")\n",
    "    print(month_string)\n",
    "    hive.run(query_daily_content_edit_2021_07.format(MONTH_STR=month_string, SNAPSHOT='2021-07'))"
   ]
  },
  {
   "cell_type": "code",
   "execution_count": null,
   "id": "1a38ab6a",
   "metadata": {},
   "outputs": [],
   "source": []
  }
 ],
 "metadata": {
  "kernelspec": {
   "display_name": "Python 3",
   "language": "python",
   "name": "python3"
  },
  "language_info": {
   "codemirror_mode": {
    "name": "ipython",
    "version": 3
   },
   "file_extension": ".py",
   "mimetype": "text/x-python",
   "name": "python",
   "nbconvert_exporter": "python",
   "pygments_lexer": "ipython3",
   "version": "3.7.6"
  }
 },
 "nbformat": 4,
 "nbformat_minor": 5
}
